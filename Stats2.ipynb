{
 "cells": [
  {
   "cell_type": "code",
   "execution_count": 1,
   "metadata": {},
   "outputs": [
    {
     "name": "stdout",
     "output_type": "stream",
     "text": [
      "The probability that a person undertaking that test has answered exactly 5 questions wrong is: 0.00000343\n"
     ]
    }
   ],
   "source": [
    "import math\n",
    "n = 20 #Given, Test consists 20 MCQs\n",
    "m = 5 #Given, Exactly 5 questions wrong\n",
    "k = n-m #Number of correct answers\n",
    "\n",
    "MCQ_given_options = 4 #Given, MCQs has 4 options\n",
    "MCQ_correct_option = 1 #Given, MCQs has 1 correct option\n",
    "\n",
    "s = MCQ_correct_option/MCQ_given_options #Probability of right answer\n",
    "q = 1-s #Probability of wrong answer\n",
    "\n",
    "#Probability that a person undertaking that test has answered exactly 5 questions wrong using binomial distribution\n",
    "prob_five_answers = (math.factorial(n)/(math.factorial(k)*math.factorial(m)))*(s**15)*(q**5) #C(n,m)*(s**15)*(q**5) \n",
    "print('The probability that a person undertaking that test has answered exactly 5 questions wrong is: %.8f' % (prob_five_answers))"
   ]
  },
  {
   "cell_type": "code",
   "execution_count": 2,
   "metadata": {},
   "outputs": [
    {
     "name": "stdout",
     "output_type": "stream",
     "text": [
      "The probability of getting a D exactly 5 times: 0.029531204310524296\n"
     ]
    }
   ],
   "source": [
    "import math\n",
    "n = 50 #Number of trials attempted: A die rolled 50 times\n",
    "k = 5 #Number of successful attempts: 'D' exactly 5 times\n",
    "m = n-k #Number of failed attempts\n",
    "\n",
    "num_die_faces = 5 #Given, A die marked A to E\n",
    "num_D_face = 1 #Given die has one 'D' face\n",
    "\n",
    "s = num_D_face/num_die_faces #Probability of getting 'D'\n",
    "q = 1-s #Probability of not getting 'D' face\n",
    "\n",
    "#Probability of getting a “D” exactly 5 times\n",
    "prob_five_D = (math.factorial(n)/(math.factorial(k)* math.factorial(m)))*(s**5)*(q**45) #C(n,m)*(s**15)*(q**5) \n",
    "print(\"The probability of getting a D exactly 5 times:\",prob_five_D)"
   ]
  },
  {
   "cell_type": "code",
   "execution_count": 3,
   "metadata": {},
   "outputs": [
    {
     "name": "stdout",
     "output_type": "stream",
     "text": [
      "Probability of 2 balls are drawn at random in succession without replacement and both are red balls:  0.13333333333333333\n",
      "Probability of 2 balls are drawn at random in succession without replacement and both are black balls:  0.3333333333333333\n",
      "Probability of 2 balls are drawn at random in succession without replacement and one is black ball and other is read ball:  0.5333333333333333\n"
     ]
    }
   ],
   "source": [
    "import math\n",
    "n = 10 #Total number of balls = 4 red balls + 6 black balls\n",
    "k = 2  #Given, Two balls are drawn\n",
    "\n",
    "#Defining the function with returns the combination\n",
    "def calc_combination(p,q):\n",
    "    return math.factorial(p)/(math.factorial(q)*math.factorial(p-q))\n",
    "\n",
    "#All possible outcomes: RR, BB, RB or BR\n",
    "\n",
    "#Probability of two balls drawn at random in succession without replacement and both are red balls P(RR)=C(4,2)*C(6,0)/C(10,2)\n",
    "prob_RR = calc_combination(4,2)*calc_combination(6,0)/calc_combination(10,2)\n",
    "print(\"Probability of 2 balls are drawn at random in succession without replacement and both are red balls: \",prob_RR)\n",
    "\n",
    "#Probability of two balls drawn at random in succession without replacement and both are black balls P(BB)=C(6,2)*C(4,0)/C(10,2)\n",
    "prob_BB = calc_combination(6,2)*calc_combination(4,0)/calc_combination(10,2) \n",
    "print(\"Probability of 2 balls are drawn at random in succession without replacement and both are black balls: \",prob_BB)\n",
    "\n",
    "#Probability of two balls drawn at random in succession without replacement and one is black ball and other is red ball P(BR)=C(6,1)*C(4,1)/C(10,2)\n",
    "prob_BR = calc_combination(6,1)*calc_combination(4,1)/calc_combination(10,2) \n",
    "print(\"Probability of 2 balls are drawn at random in succession without replacement and one is black ball and other is read ball: \",prob_BR)"
   ]
  },
  {
   "cell_type": "code",
   "execution_count": null,
   "metadata": {},
   "outputs": [],
   "source": []
  }
 ],
 "metadata": {
  "kernelspec": {
   "display_name": "Python 3",
   "language": "python",
   "name": "python3"
  },
  "language_info": {
   "codemirror_mode": {
    "name": "ipython",
    "version": 3
   },
   "file_extension": ".py",
   "mimetype": "text/x-python",
   "name": "python",
   "nbconvert_exporter": "python",
   "pygments_lexer": "ipython3",
   "version": "3.6.4"
  }
 },
 "nbformat": 4,
 "nbformat_minor": 2
}
